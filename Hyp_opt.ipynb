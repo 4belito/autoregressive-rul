{
 "cells": [
  {
   "cell_type": "markdown",
   "id": "fc96e3b8-ab80-4c0a-8e90-94d0b457f959",
   "metadata": {},
   "source": [
    "# Hyperparameter Optimization"
   ]
  },
  {
   "cell_type": "code",
   "execution_count": 1,
   "id": "3dab24df-2720-448f-a9d0-3d76d291b89a",
   "metadata": {},
   "outputs": [],
   "source": [
    "import numpy as np\n",
    "import torch\n",
    "import optuna\n",
    "import os\n",
    "import pickle\n",
    "import copy\n",
    "\n",
    "import sys\n",
    "sys.path.append('./data')\n",
    "from datautil import create_cross_loaders,sys_separation\n",
    "\n",
    "#Train RUL_estimation\n",
    "from architectures import RUL_estimation as arch \n",
    "from training_decoder import train_estimation as train\n",
    "from training_decoder import evaluate_estimation as evaluate\n",
    "\n",
    "#Train RUL_transition\n",
    "# from architectures import RUL_transition as arch \n",
    "# from training_decoder import train_transition as train\n",
    "# from training_decoder import evaluate_transition as evaluate\n",
    "\n",
    "\n",
    "exp='try'#'estimation_noisy0'# 'transition3'#\n",
    "noisy=True"
   ]
  },
  {
   "cell_type": "code",
   "execution_count": 2,
   "id": "10c64d39-ae54-47f2-893c-80fd04e89487",
   "metadata": {},
   "outputs": [
    {
     "name": "stdout",
     "output_type": "stream",
     "text": [
      "cuda:0\n"
     ]
    }
   ],
   "source": [
    "device = torch.device(\"cuda:0\" if torch.cuda.is_available() else \"cpu\")\n",
    "print(device)"
   ]
  },
  {
   "cell_type": "markdown",
   "id": "b722f0ca-e170-49a3-ad92-5c5da4a98dcd",
   "metadata": {},
   "source": [
    "## Experiment"
   ]
  },
  {
   "cell_type": "code",
   "execution_count": 3,
   "id": "1e3627e9-66b7-4637-8d07-c8d6b6990a5c",
   "metadata": {},
   "outputs": [],
   "source": [
    "#Data\n",
    "data='Rectifier'#'-Rectifier_300Diode'\n",
    "dataset_name='Rectifier'#'RectifierRUL'# \n",
    "exp_address=f'./Experiments/{data}/{dataset_name}_{exp}'"
   ]
  },
  {
   "cell_type": "markdown",
   "id": "ca83b94e-c41e-47d5-a341-b28630cb6aa3",
   "metadata": {},
   "source": [
    "## Load the dataset"
   ]
  },
  {
   "cell_type": "code",
   "execution_count": 4,
   "id": "b2368b2d-e076-4010-acb1-4800f524e88b",
   "metadata": {},
   "outputs": [],
   "source": [
    "with open(f'./data/{data}/dataset.pkl', 'rb') as file:\n",
    "    dataset = pickle.load(file)"
   ]
  },
  {
   "cell_type": "code",
   "execution_count": 5,
   "id": "eb7648a1-ebb5-4412-8613-5dc57ce1b812",
   "metadata": {},
   "outputs": [
    {
     "name": "stdout",
     "output_type": "stream",
     "text": [
      "Dataset X shape: (51200, 9)\n",
      "Dataset Y shape: (51200,)\n",
      "Number of systems: 200\n"
     ]
    }
   ],
   "source": [
    "print(f'Dataset X shape: {dataset.x.shape}') \n",
    "print(f'Dataset Y shape: {dataset.y.shape}') \n",
    "print(f'Number of systems: {dataset.n_sys}') "
   ]
  },
  {
   "cell_type": "markdown",
   "id": "4c0e0577-23a7-46a7-96b6-73fad8282527",
   "metadata": {
    "tags": []
   },
   "source": [
    "## Hyper-parameter Optimization"
   ]
  },
  {
   "cell_type": "code",
   "execution_count": 6,
   "id": "3f363423",
   "metadata": {},
   "outputs": [],
   "source": [
    "loss='MSE'\n",
    "weighted=False\n",
    "N_folds=5\n",
    "\n",
    "look_back_list=[k+1 for k in range(15)]\n",
    "batch_size_list=[64] #[2**k for k in range(3,11)]\n",
    "def scoring(x,y,a=10,b=13):\n",
    "    s=x-y\n",
    "    return np.exp(s / a)*(s > 0) +np.exp(-s /b)*(s <= 0)-1\n",
    "\n",
    "look_back=30\n",
    "batch_size=64\n",
    "\n",
    "\n",
    "def objective(trial): \n",
    "    # model parameters   \n",
    "    rul_head_dim=trial.suggest_categorical('rul_head_dim',[32, 64, 128, 256,512,1024]) #256 256 256 64\n",
    "    n_head=trial.suggest_categorical('n_head',[1,2,4,6,8,9,10,11,12])                               #2   4  2 1\n",
    "    param=trial.suggest_categorical('embed_dim/n_head',[1, 2, 3, 4, 5, 6, 7, 8, 9, 10, 11, 12])        #7 2 5 5 \n",
    "    embed_dim=param*n_head \n",
    "    dim_feedforward=trial.suggest_categorical('dim_feedforward',[16,32, 64, 128, 256, 512,1024])   #32 #32 32 512\n",
    "    \n",
    "    #training parameters\n",
    "    if exp=='try':\n",
    "        N_epoch=1\n",
    "    else:\n",
    "        N_epoch=trial.suggest_int('N_epoch',15,30) \n",
    "    \n",
    "    if noisy:\n",
    "        noise_strength_ini=trial.suggest_float('noise_strength_ini',0,20)   \n",
    "        noise_strength_end=trial.suggest_float('noise_strength_end',0,20)   \n",
    "        noise_bound_ini=trial.suggest_float('noise_bound_ini',0,1.2)    \n",
    "        noise_bound_end=trial.suggest_float('noise_bound_end',0,1.2)    \n",
    "        noise=(noise_strength_ini,noise_bound_ini,noise_strength_end,noise_bound_end) \n",
    "    else:\n",
    "        noise=False\n",
    "\n",
    "    lr=trial.suggest_float('lr',1e-5,1e-3)  \n",
    "    #trial.suggest_categorical('batch_size',batch_size_list)\n",
    "    #look_back=trial.suggest_categorical('look_back',[8, 9, 10, 11, 12, 13, 14, 15]) #14 15 12 14\n",
    "    \n",
    "\n",
    "####################################################333\\\\\n",
    "    #create loaders randomly  \n",
    "    train_loaders,test_loaders=create_cross_loaders(dataset,N_folds=N_folds,window=look_back+1,batch_size=batch_size,scored=noisy,shuffle=True) #,train_stats\n",
    "    #Training parameters \n",
    "    config={'n_epoch':N_epoch,#500\n",
    "                'lr':  lr,#1e-4\n",
    "                'a':10,#1 10\n",
    "                'b':13, #20 13\n",
    "                'alpha':1,\n",
    "                'war':200,\n",
    "                'Floss':loss,\n",
    "                'weighted':weighted}\n",
    "    \n",
    "    y_preds=[]\n",
    "    y_trues=[] ##### mejorar esto\n",
    "    weights=[]\n",
    "    arrays=[]\n",
    "    for fold in range(N_folds):\n",
    "        \n",
    "        #create the model\n",
    "        model=arch(look_back=look_back,\n",
    "                    n_features=dataset.n_features,\n",
    "                    embed_dim=embed_dim,\n",
    "                    rul_head_dim=rul_head_dim,\n",
    "                    dim_feedforward=dim_feedforward,\n",
    "                    n_head=n_head).to(device).double() \n",
    "        \n",
    "        #train model on fold\n",
    "        model_trained=train(model,train_loaders[fold],config,noise_coef=noise)\n",
    "        \n",
    "        #evaluate the model\n",
    "        model_trained.eval()\n",
    "        y_pred,y_true=evaluate(model_trained,test_loaders[fold])     \n",
    "        weight=copy.deepcopy(model_trained.state_dict()) \n",
    "\n",
    "        #save folds predictions\n",
    "        y_preds.append(y_pred)\n",
    "        y_trues.append(y_true)\n",
    "        weights.append(weight)\n",
    "        arrays.append(test_loaders[fold].dataset.sys_array)\n",
    "\n",
    "    #Stack predictions on folds\n",
    "    y_pred=np.concatenate(y_preds,axis=0)\n",
    "    y_true=np.concatenate(y_trues,axis=0)\n",
    "    array=np.concatenate(arrays)\n",
    "    \n",
    "    #System separation\n",
    "    y_pred=sys_separation(y_pred,array)\n",
    "    y_true=sys_separation(y_true,array)\n",
    "    \n",
    "    #RMSE\n",
    "    RMSE_sys=np.sqrt(np.nanmean((y_pred-y_true)**2,axis=tuple(range(1,y_pred.ndim))))\n",
    "    RMSE_mean=np.mean(RMSE_sys,axis=0)\n",
    "    #RMSE_std=np.std(RMSE_sys,axis=0)\n",
    "\n",
    "    #scoring\n",
    "    # Nasa_scoring_sys=np.nanmean(scoring(y_pred,y_true),axis=1)\n",
    "    # Nasa_scoring_mean=np.nanmean(Nasa_scoring_sys,axis=0)\n",
    "    # Nasa_scoring_std=np.nanstd(Nasa_scoring_sys,axis=0)\n",
    "    \n",
    "    # score=0.5*RMSE_mean+0.5*Nasa_scoring_mean\n",
    "    \n",
    "    if trial.number==0 or study.best_trial.value >= RMSE_mean:\n",
    "        torch.save(train_loaders, f'{exp_address}/train_loaders.pkl')\n",
    "        torch.save(test_loaders, f'{exp_address}/test_loaders.pkl')\n",
    "        torch.save(weights, f'{exp_address}/best_model.pt')\n",
    "\n",
    "    return RMSE_mean"
   ]
  },
  {
   "cell_type": "code",
   "execution_count": 7,
   "id": "630293f5-675b-41a2-b2fd-bc69adc512c4",
   "metadata": {},
   "outputs": [
    {
     "name": "stderr",
     "output_type": "stream",
     "text": [
      "[I 2023-10-17 16:03:17,988] A new study created in RDB with name: ./Experiments/Rectifier/Rectifier_try/estudio\n"
     ]
    },
    {
     "data": {
      "text/plain": [
       "0"
      ]
     },
     "execution_count": 7,
     "metadata": {},
     "output_type": "execute_result"
    }
   ],
   "source": [
    "study_name = exp_address+'/estudio' #f\"{dataset_name}_test{test}\"\n",
    "storage_name = \"sqlite:///{}.db\".format(study_name)\n",
    "os.makedirs(f'{exp_address}', exist_ok=True)\n",
    "study = optuna.create_study(study_name=study_name, storage=storage_name, load_if_exists=True)\n",
    "len(study.trials)"
   ]
  },
  {
   "cell_type": "code",
   "execution_count": 8,
   "id": "3b7ef211-cfca-4047-b8aa-3b731a9bb7d4",
   "metadata": {},
   "outputs": [
    {
     "data": {
      "application/vnd.jupyter.widget-view+json": {
       "model_id": "e82188ef6e494aad967292844c9008b0",
       "version_major": 2,
       "version_minor": 0
      },
      "text/plain": [
       "  0%|          | 0/1 [00:00<?, ?it/s]"
      ]
     },
     "metadata": {},
     "output_type": "display_data"
    },
    {
     "name": "stdout",
     "output_type": "stream",
     "text": [
      "[I 2023-10-17 16:03:47,046] Trial 0 finished with value: 37.01370448522369 and parameters: {'rul_head_dim': 1024, 'n_head': 11, 'embed_dim/n_head': 5, 'dim_feedforward': 16, 'noise_strength_ini': 1.199843520875652, 'noise_strength_end': 15.761147928313857, 'noise_bound_ini': 0.875351995441558, 'noise_bound_end': 1.1150757671116878, 'lr': 0.0007472836134480432}. Best is trial 0 with value: 37.01370448522369.\n"
     ]
    }
   ],
   "source": [
    "n_trials=1\n",
    "study.optimize(objective, n_trials=n_trials-len(study.trials), show_progress_bar=True)"
   ]
  },
  {
   "cell_type": "code",
   "execution_count": 9,
   "id": "5ab5c69a-b554-45d5-9f8e-59da0cee6e24",
   "metadata": {},
   "outputs": [
    {
     "data": {
      "text/plain": [
       "{'rul_head_dim': 1024,\n",
       " 'n_head': 11,\n",
       " 'embed_dim/n_head': 5,\n",
       " 'dim_feedforward': 16,\n",
       " 'noise_strength_ini': 1.199843520875652,\n",
       " 'noise_strength_end': 15.761147928313857,\n",
       " 'noise_bound_ini': 0.875351995441558,\n",
       " 'noise_bound_end': 1.1150757671116878,\n",
       " 'lr': 0.0007472836134480432}"
      ]
     },
     "execution_count": 9,
     "metadata": {},
     "output_type": "execute_result"
    }
   ],
   "source": [
    "study.best_trial.params"
   ]
  },
  {
   "cell_type": "code",
   "execution_count": 10,
   "id": "2bc71989-909e-4025-b122-3c5fd1f0a30f",
   "metadata": {},
   "outputs": [
    {
     "data": {
      "text/plain": [
       "37.01370448522369"
      ]
     },
     "execution_count": 10,
     "metadata": {},
     "output_type": "execute_result"
    }
   ],
   "source": [
    "study.best_trial.value"
   ]
  },
  {
   "cell_type": "code",
   "execution_count": null,
   "id": "4873e1f5",
   "metadata": {},
   "outputs": [],
   "source": []
  }
 ],
 "metadata": {
  "kernelspec": {
   "display_name": "Python 3 (ipykernel)",
   "language": "python",
   "name": "python3"
  },
  "language_info": {
   "codemirror_mode": {
    "name": "ipython",
    "version": 3
   },
   "file_extension": ".py",
   "mimetype": "text/x-python",
   "name": "python",
   "nbconvert_exporter": "python",
   "pygments_lexer": "ipython3",
   "version": "3.11.5"
  }
 },
 "nbformat": 4,
 "nbformat_minor": 5
}
