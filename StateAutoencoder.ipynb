{
 "cells": [
  {
   "cell_type": "markdown",
   "metadata": {},
   "source": [
    "# State Autoencoder\n",
    "\n",
    "This notebook trains a Transformer autoencoder to reconstruct measurements. It projects the sequential input down to a latent variable, $z$, that should represent the state of the system."
   ]
  },
  {
   "cell_type": "code",
   "execution_count": 1,
   "metadata": {},
   "outputs": [],
   "source": [
    "import torch\n",
    "import torch.nn as nn\n",
    "import numpy as np\n",
    "import matplotlib.pyplot as plt\n",
    "import pandas as pd\n",
    "from tqdm import tqdm\n",
    "import pickle\n",
    "import data.datautil as du\n",
    "\n",
    "from models import TransformerEncoder, TransformerDecoder"
   ]
  },
  {
   "cell_type": "code",
   "execution_count": 2,
   "metadata": {},
   "outputs": [],
   "source": [
    "device = torch.device(\"cuda:0\" if torch.cuda.is_available() else \"cpu\")"
   ]
  },
  {
   "cell_type": "markdown",
   "metadata": {},
   "source": [
    "Loading the data"
   ]
  },
  {
   "cell_type": "code",
   "execution_count": 3,
   "metadata": {},
   "outputs": [],
   "source": [
    "data_name='Rectifier_oct23_cap'\n",
    "sim_name='RectifierData_step10h' \n",
    "dataset_name='RUL_real_cap'"
   ]
  },
  {
   "cell_type": "code",
   "execution_count": 4,
   "metadata": {},
   "outputs": [],
   "source": [
    "with open(f'./data/{data_name}/dataset_{dataset_name}_train.pkl', 'rb') as file:\n",
    "    train_dataset = pickle.load(file)"
   ]
  },
  {
   "cell_type": "code",
   "execution_count": 5,
   "metadata": {},
   "outputs": [],
   "source": [
    "with open(f'./data/{data_name}/dataset_{dataset_name}_test.pkl', 'rb') as file:\n",
    "    test_dataset = pickle.load(file)"
   ]
  },
  {
   "cell_type": "code",
   "execution_count": 6,
   "metadata": {},
   "outputs": [
    {
     "name": "stdout",
     "output_type": "stream",
     "text": [
      "Dataset name: RUL_real_cap\n",
      "Features (X): ['i1', 'i2', 'i3', 'I_DC', 'C01', 'C02', 'C03']\n",
      "-shape: (63179, 7)\n",
      "Features (Y): ['RUL']\n",
      "-shape: (63179, 1)\n",
      "Number of systems: 200\n"
     ]
    }
   ],
   "source": [
    "print(f'Dataset name: {train_dataset.dataset_name}') \n",
    "for var in train_dataset.n_var:\n",
    "    if train_dataset.n_var[var]:\n",
    "        print(f'Features ({var}): {train_dataset.labels[var]}')  \n",
    "        print(f'-shape: {train_dataset.var[var].shape}')\n",
    "\n",
    "if train_dataset.n_var['U']:\n",
    "    simulation_size=train_dataset.origin['U'].shape[1]\n",
    "    print(f'Simulation size: {simulation_size}') \n",
    "print(f'Number of systems: {train_dataset.n_sys}') "
   ]
  },
  {
   "cell_type": "code",
   "execution_count": 7,
   "metadata": {},
   "outputs": [
    {
     "data": {
      "text/plain": [
       "<torch.utils.data.dataloader.DataLoader at 0x7f98f42be110>"
      ]
     },
     "execution_count": 7,
     "metadata": {},
     "output_type": "execute_result"
    }
   ],
   "source": [
    "batch_size = 128\n",
    "stats = ['X']\n",
    "timestep=9\n",
    "window={'X':[timestep,0],'Y':[0,0]}\n",
    "trainloader = du.create_loader(train_dataset, batch_size, stats, window=window, shuffle=True)\n",
    "trainloader"
   ]
  },
  {
   "cell_type": "code",
   "execution_count": 8,
   "metadata": {},
   "outputs": [
    {
     "data": {
      "text/plain": [
       "<torch.utils.data.dataloader.DataLoader at 0x7f9827fd9590>"
      ]
     },
     "execution_count": 8,
     "metadata": {},
     "output_type": "execute_result"
    }
   ],
   "source": [
    "batch_size = 128\n",
    "stats = ['X']\n",
    "timestep=9\n",
    "window={'X':[timestep,0],'Y':[0,0]}\n",
    "testloader = du.create_loader(test_dataset, batch_size, stats, window=window, shuffle=False)\n",
    "testloader"
   ]
  },
  {
   "cell_type": "code",
   "execution_count": 9,
   "metadata": {},
   "outputs": [
    {
     "name": "stdout",
     "output_type": "stream",
     "text": [
      "X Shape: torch.Size([128, 10, 7]), Y Shape: torch.Size([128, 1, 1])\n"
     ]
    }
   ],
   "source": [
    "ex_X, ex_y = next(iter(trainloader))\n",
    "print(f\"X Shape: {ex_X.shape}, Y Shape: {ex_y.shape}\")"
   ]
  },
  {
   "cell_type": "code",
   "execution_count": 10,
   "metadata": {},
   "outputs": [],
   "source": [
    "enc = TransformerEncoder(input_dim=ex_X.shape[2], embed_dim=2, dropout=0.1)\n",
    "dec = TransformerDecoder(output_dim=ex_X.shape[2], embed_dim=2, dropout=0.1)"
   ]
  },
  {
   "cell_type": "code",
   "execution_count": 11,
   "metadata": {},
   "outputs": [],
   "source": [
    "pred = enc(ex_X.to(torch.float32))"
   ]
  },
  {
   "cell_type": "code",
   "execution_count": 12,
   "metadata": {},
   "outputs": [],
   "source": [
    "xhat = dec(pred)"
   ]
  },
  {
   "cell_type": "code",
   "execution_count": 13,
   "metadata": {},
   "outputs": [],
   "source": [
    "def plot_latent_space(enc, dataloader):\n",
    "    zs = []\n",
    "    enc.eval()\n",
    "    for X, y in tqdm(dataloader):\n",
    "        X = X.to(torch.float32).to(device)\n",
    "        z = enc(X)\n",
    "        zs.append(z.detach().cpu().numpy())\n",
    "    \n",
    "    zs = np.vstack(zs)\n",
    "    print(zs.shape)\n",
    "    plt.scatter(zs[:,0], zs[:,1])\n",
    "    plt.show()\n",
    "    \n",
    "    return zs"
   ]
  },
  {
   "cell_type": "code",
   "execution_count": 14,
   "metadata": {},
   "outputs": [
    {
     "name": "stderr",
     "output_type": "stream",
     "text": [
      "100%|██████████| 480/480 [00:01<00:00, 405.18it/s]\n"
     ]
    },
    {
     "name": "stdout",
     "output_type": "stream",
     "text": [
      "(61379, 2)\n"
     ]
    },
    {
     "data": {
      "image/png": "[encoded data removed]",
      "text/plain": [
       "<Figure size 640x480 with 1 Axes>"
      ]
     },
     "metadata": {},
     "output_type": "display_data"
    }
   ],
   "source": [
    "enc = TransformerEncoder(input_dim=ex_X.shape[2], embed_dim=2, dropout=0.1, device=device).to(device)\n",
    "dec = TransformerDecoder(output_dim=ex_X.shape[2], embed_dim=2, dropout=0.1).to(device)\n",
    "zs = plot_latent_space(enc, trainloader)"
   ]
  },
  {
   "cell_type": "code",
   "execution_count": 15,
   "metadata": {},
   "outputs": [
    {
     "name": "stderr",
     "output_type": "stream",
     "text": [
      " 10%|█         | 1/10 [00:07<01:09,  7.76s/it]"
     ]
    },
    {
     "name": "stdout",
     "output_type": "stream",
     "text": [
      "Epoch: 1, loss: 0.03239025067538023\n"
     ]
    },
    {
     "name": "stderr",
     "output_type": "stream",
     "text": [
      " 20%|██        | 2/10 [00:15<01:01,  7.73s/it]"
     ]
    },
    {
     "name": "stdout",
     "output_type": "stream",
     "text": [
      "Epoch: 2, loss: 0.030714775640517472\n"
     ]
    },
    {
     "name": "stderr",
     "output_type": "stream",
     "text": [
      " 30%|███       | 3/10 [00:23<00:54,  7.74s/it]"
     ]
    },
    {
     "name": "stdout",
     "output_type": "stream",
     "text": [
      "Epoch: 3, loss: 0.02963637324050069\n"
     ]
    },
    {
     "name": "stderr",
     "output_type": "stream",
     "text": [
      " 40%|████      | 4/10 [00:30<00:46,  7.75s/it]"
     ]
    },
    {
     "name": "stdout",
     "output_type": "stream",
     "text": [
      "Epoch: 4, loss: 0.02850751843303442\n"
     ]
    },
    {
     "name": "stderr",
     "output_type": "stream",
     "text": [
      " 50%|█████     | 5/10 [00:38<00:38,  7.75s/it]"
     ]
    },
    {
     "name": "stdout",
     "output_type": "stream",
     "text": [
      "Epoch: 5, loss: 0.02660754952579737\n"
     ]
    },
    {
     "name": "stderr",
     "output_type": "stream",
     "text": [
      " 60%|██████    | 6/10 [00:46<00:30,  7.74s/it]"
     ]
    },
    {
     "name": "stdout",
     "output_type": "stream",
     "text": [
      "Epoch: 6, loss: 0.02205653501674533\n"
     ]
    },
    {
     "name": "stderr",
     "output_type": "stream",
     "text": [
      " 70%|███████   | 7/10 [00:54<00:23,  7.74s/it]"
     ]
    },
    {
     "name": "stdout",
     "output_type": "stream",
     "text": [
      "Epoch: 7, loss: 0.02136137871071696\n"
     ]
    },
    {
     "name": "stderr",
     "output_type": "stream",
     "text": [
      " 80%|████████  | 8/10 [01:01<00:15,  7.74s/it]"
     ]
    },
    {
     "name": "stdout",
     "output_type": "stream",
     "text": [
      "Epoch: 8, loss: 0.02042927423492074\n"
     ]
    },
    {
     "name": "stderr",
     "output_type": "stream",
     "text": [
      " 90%|█████████ | 9/10 [01:09<00:07,  7.74s/it]"
     ]
    },
    {
     "name": "stdout",
     "output_type": "stream",
     "text": [
      "Epoch: 9, loss: 0.020646582413464783\n"
     ]
    },
    {
     "name": "stderr",
     "output_type": "stream",
     "text": [
      "100%|██████████| 10/10 [01:17<00:00,  7.73s/it]"
     ]
    },
    {
     "name": "stdout",
     "output_type": "stream",
     "text": [
      "Epoch: 10, loss: 0.020349279921501876\n"
     ]
    },
    {
     "name": "stderr",
     "output_type": "stream",
     "text": [
      "\n"
     ]
    }
   ],
   "source": [
    "enc = TransformerEncoder(input_dim=ex_X.shape[2], embed_dim=3, dropout=0.25, device=device).to(device)\n",
    "dec = TransformerDecoder(output_dim=ex_X.shape[2], embed_dim=3, dropout=0.25).to(device)\n",
    "objective = nn.MSELoss()\n",
    "params = list(enc.parameters()) + list(dec.parameters())\n",
    "    # optimizer\n",
    "optim = torch.optim.Adam(params, lr=1e-4)\n",
    "\n",
    "n_epochs = 10\n",
    "losses = []\n",
    "for i in tqdm(range(n_epochs)):\n",
    "    for X, y in trainloader:\n",
    "        optim.zero_grad()     \n",
    "        X = X.to(torch.float32).to(device)\n",
    "        y = y.to(device)\n",
    "        \n",
    "        z = enc(X)\n",
    "        Xhat = dec(z)\n",
    "        \n",
    "        loss = objective(Xhat, X[:,-1,:])\n",
    "        loss.backward()\n",
    "        optim.step()\n",
    "        \n",
    "        losses.append(loss.item())\n",
    "    # plot_latent_space(enc, trainloader)\n",
    "    enc.train()\n",
    "        \n",
    "    print(f\"Epoch: {i+1}, loss: {np.mean(losses[-100:])}\")"
   ]
  },
  {
   "cell_type": "code",
   "execution_count": 16,
   "metadata": {},
   "outputs": [
    {
     "data": {
      "text/plain": [
       "[<matplotlib.lines.Line2D at 0x7f980bf23010>]"
      ]
     },
     "execution_count": 16,
     "metadata": {},
     "output_type": "execute_result"
    },
    {
     "data": {
      "image/png": "[encoded data removed]",
      "text/plain": [
       "<Figure size 640x480 with 1 Axes>"
      ]
     },
     "metadata": {},
     "output_type": "display_data"
    }
   ],
   "source": [
    "plt.plot(losses)"
   ]
  },
  {
   "cell_type": "code",
   "execution_count": 17,
   "metadata": {},
   "outputs": [
    {
     "name": "stderr",
     "output_type": "stream",
     "text": [
      "100%|██████████| 122/122 [00:00<00:00, 429.81it/s]\n"
     ]
    }
   ],
   "source": [
    "errors = []\n",
    "zs = []\n",
    "ruls = []\n",
    "enc.eval()\n",
    "dec.eval()\n",
    "for X, y in tqdm(testloader):\n",
    "    X = X.to(torch.float32).to(device)\n",
    "    \n",
    "    z = enc(X)\n",
    "    Xhat = dec(z) \n",
    "    \n",
    "    zs.append(z.detach().cpu().numpy())\n",
    "    # print(Xhat.shape, X.shape)\n",
    "    loss = objective(Xhat, X[:,-1,:])\n",
    "    errors.append(loss.item())\n",
    "    ruls.append(y.numpy())\n",
    "    \n",
    "ruls = np.concatenate(ruls).flatten()\n",
    "zs = np.vstack(zs)\n",
    "errors = np.array(errors)"
   ]
  },
  {
   "cell_type": "code",
   "execution_count": 18,
   "metadata": {},
   "outputs": [
    {
     "data": {
      "text/plain": [
       "[<matplotlib.lines.Line2D at 0x7f980bf9c150>]"
      ]
     },
     "execution_count": 18,
     "metadata": {},
     "output_type": "execute_result"
    },
    {
     "data": {
      "image/png": "[encoded data removed]",
      "text/plain": [
       "<Figure size 640x480 with 1 Axes>"
      ]
     },
     "metadata": {},
     "output_type": "display_data"
    }
   ],
   "source": [
    "plt.plot(errors)"
   ]
  },
  {
   "cell_type": "code",
   "execution_count": 19,
   "metadata": {},
   "outputs": [
    {
     "data": {
      "image/png": "[encoded data removed]",
      "text/plain": [
       "<Figure size 640x480 with 2 Axes>"
      ]
     },
     "metadata": {},
     "output_type": "display_data"
    }
   ],
   "source": [
    "plt.title(\"Latent Space\")\n",
    "scatter = plt.scatter(zs[:,0], zs[:,1], c=ruls)\n",
    "cbar = plt.colorbar(scatter)\n",
    "cbar.set_label('RUL')  # Replace with an appropriate label\n",
    "\n",
    "plt.show()"
   ]
  },
  {
   "cell_type": "code",
   "execution_count": 20,
   "metadata": {},
   "outputs": [
    {
     "data": {
      "text/plain": [
       "0.03063356355939549"
      ]
     },
     "execution_count": 20,
     "metadata": {},
     "output_type": "execute_result"
    }
   ],
   "source": [
    "np.mean(errors)"
   ]
  },
  {
   "cell_type": "code",
   "execution_count": 21,
   "metadata": {},
   "outputs": [],
   "source": [
    "# torch.save({\n",
    "#     'model_state_dict': enc.state_dict(),\n",
    "#     'positional_embed': enc.positional_embed.data            \n",
    "# }, './saved_models/const_enc_3dim.pth')\n",
    "# torch.save(dec.state_dict(), './saved_models/const_dec_3dim.pth')"
   ]
  },
  {
   "cell_type": "code",
   "execution_count": 22,
   "metadata": {},
   "outputs": [
    {
     "data": {
      "text/plain": [
       "<torch.utils.data.dataloader.DataLoader at 0x7f9827c2ca10>"
      ]
     },
     "execution_count": 22,
     "metadata": {},
     "output_type": "execute_result"
    }
   ],
   "source": [
    "with open(f'./data/Rectifier_dic23_4steps_faults/dataset_RUL_real_train.pkl', 'rb') as file: # make sure this is the same dataset\n",
    "    anomaly_dataset = pickle.load(file)\n",
    "    \n",
    "    \n",
    "batch_size = 128\n",
    "stats = ['X']\n",
    "timestep=9\n",
    "window={'X':[timestep,0],'Y':[0,0]}\n",
    "anomalyloader = du.create_loader(anomaly_dataset, batch_size, stats, window=window, shuffle=False)\n",
    "anomalyloader"
   ]
  },
  {
   "cell_type": "code",
   "execution_count": 46,
   "metadata": {},
   "outputs": [
    {
     "data": {
      "text/plain": [
       "[tensor([[[0.2176, 0.2568, 0.2667,  ..., 0.9036, 0.9560, 0.9024],\n",
       "          [0.4615, 0.5079, 0.5119,  ..., 0.9036, 0.9560, 0.9024],\n",
       "          [0.5478, 0.5951, 0.5937,  ..., 0.9036, 0.9560, 0.9024],\n",
       "          ...,\n",
       "          [0.5249, 0.5762, 0.5809,  ..., 0.9036, 0.9560, 0.9024],\n",
       "          [0.5532, 0.6039, 0.6066,  ..., 0.9036, 0.9560, 0.9024],\n",
       "          [0.5187, 0.5723, 0.5800,  ..., 0.9036, 0.9560, 0.9024]],\n",
       " \n",
       "         [[0.4693, 0.4919, 0.7979,  ..., 0.0552, 0.0536, 0.5645],\n",
       "          [0.4988, 0.5197, 0.8233,  ..., 0.0552, 0.0536, 0.5645],\n",
       "          [0.5041, 0.5234, 0.8320,  ..., 0.0552, 0.0536, 0.5645],\n",
       "          ...,\n",
       "          [0.4820, 0.5042, 0.8133,  ..., 0.0552, 0.0536, 0.5645],\n",
       "          [0.4683, 0.4867, 0.7947,  ..., 0.0552, 0.0536, 0.5645],\n",
       "          [0.4737, 0.4882, 0.8002,  ..., 0.0552, 0.0536, 0.5645]],\n",
       " \n",
       "         [[0.5377, 0.8787, 0.7160,  ..., 0.2059, 0.7893, 0.4720],\n",
       "          [0.5379, 0.8795, 0.7218,  ..., 0.2059, 0.7893, 0.4720],\n",
       "          [0.5585, 0.9069, 0.7407,  ..., 0.2059, 0.7893, 0.4720],\n",
       "          ...,\n",
       "          [0.5404, 0.8864, 0.7221,  ..., 0.2059, 0.7893, 0.4720],\n",
       "          [0.5383, 0.8811, 0.7215,  ..., 0.2059, 0.7893, 0.4720],\n",
       "          [0.5256, 0.8751, 0.7087,  ..., 0.2059, 0.7893, 0.4720]],\n",
       " \n",
       "         ...,\n",
       " \n",
       "         [[0.6791, 0.2789, 0.5167,  ..., 0.8835, 0.0094, 0.5712],\n",
       "          [0.6713, 0.2773, 0.5084,  ..., 0.8835, 0.0094, 0.5712],\n",
       "          [0.6515, 0.2591, 0.4831,  ..., 0.8835, 0.0094, 0.5712],\n",
       "          ...,\n",
       "          [0.6722, 0.2780, 0.5039,  ..., 0.8835, 0.0094, 0.5712],\n",
       "          [0.6763, 0.2821, 0.5079,  ..., 0.8835, 0.0094, 0.5712],\n",
       "          [0.6714, 0.2792, 0.5070,  ..., 0.8835, 0.0094, 0.5712]],\n",
       " \n",
       "         [[0.7111, 0.4468, 0.5631,  ..., 0.6693, 0.1147, 0.3132],\n",
       "          [0.7245, 0.4634, 0.5741,  ..., 0.6693, 0.1147, 0.3132],\n",
       "          [0.6861, 0.4271, 0.5378,  ..., 0.6693, 0.1147, 0.3132],\n",
       "          ...,\n",
       "          [0.6987, 0.4410, 0.5462,  ..., 0.6693, 0.1147, 0.3132],\n",
       "          [0.7156, 0.4514, 0.5596,  ..., 0.6693, 0.1147, 0.3132],\n",
       "          [0.7117, 0.4546, 0.5610,  ..., 0.6693, 0.1147, 0.3132]],\n",
       " \n",
       "         [[0.7493, 0.3760, 0.7333,  ..., 0.8856, 0.0874, 0.7009],\n",
       "          [0.7565, 0.3783, 0.7412,  ..., 0.8856, 0.0874, 0.7009],\n",
       "          [0.7577, 0.3786, 0.7416,  ..., 0.8856, 0.0874, 0.7009],\n",
       "          ...,\n",
       "          [0.7576, 0.3812, 0.7434,  ..., 0.8856, 0.0874, 0.7009],\n",
       "          [0.7287, 0.3570, 0.7127,  ..., 0.8856, 0.0874, 0.7009],\n",
       "          [0.7612, 0.3800, 0.7365,  ..., 0.8856, 0.0874, 0.7009]]],\n",
       "        dtype=torch.float64),\n",
       " tensor([[[270.]],\n",
       " \n",
       "         [[243.]],\n",
       " \n",
       "         [[227.]],\n",
       " \n",
       "         [[173.]],\n",
       " \n",
       "         [[212.]],\n",
       " \n",
       "         [[ 46.]],\n",
       " \n",
       "         [[219.]],\n",
       " \n",
       "         [[174.]],\n",
       " \n",
       "         [[ 63.]],\n",
       " \n",
       "         [[261.]],\n",
       " \n",
       "         [[ 82.]],\n",
       " \n",
       "         [[228.]],\n",
       " \n",
       "         [[131.]],\n",
       " \n",
       "         [[107.]],\n",
       " \n",
       "         [[ 82.]],\n",
       " \n",
       "         [[212.]],\n",
       " \n",
       "         [[ 40.]],\n",
       " \n",
       "         [[137.]],\n",
       " \n",
       "         [[128.]],\n",
       " \n",
       "         [[213.]],\n",
       " \n",
       "         [[115.]],\n",
       " \n",
       "         [[208.]],\n",
       " \n",
       "         [[ 92.]],\n",
       " \n",
       "         [[ 69.]],\n",
       " \n",
       "         [[130.]],\n",
       " \n",
       "         [[171.]],\n",
       " \n",
       "         [[113.]],\n",
       " \n",
       "         [[316.]],\n",
       " \n",
       "         [[250.]],\n",
       " \n",
       "         [[162.]],\n",
       " \n",
       "         [[202.]],\n",
       " \n",
       "         [[ 43.]],\n",
       " \n",
       "         [[ 80.]],\n",
       " \n",
       "         [[ 66.]],\n",
       " \n",
       "         [[163.]],\n",
       " \n",
       "         [[ 43.]],\n",
       " \n",
       "         [[124.]],\n",
       " \n",
       "         [[116.]],\n",
       " \n",
       "         [[247.]],\n",
       " \n",
       "         [[ 69.]],\n",
       " \n",
       "         [[ 98.]],\n",
       " \n",
       "         [[124.]],\n",
       " \n",
       "         [[ 97.]],\n",
       " \n",
       "         [[112.]],\n",
       " \n",
       "         [[ 76.]],\n",
       " \n",
       "         [[297.]],\n",
       " \n",
       "         [[ 87.]],\n",
       " \n",
       "         [[ 18.]],\n",
       " \n",
       "         [[138.]],\n",
       " \n",
       "         [[246.]],\n",
       " \n",
       "         [[254.]],\n",
       " \n",
       "         [[187.]],\n",
       " \n",
       "         [[124.]],\n",
       " \n",
       "         [[258.]],\n",
       " \n",
       "         [[192.]],\n",
       " \n",
       "         [[ 34.]],\n",
       " \n",
       "         [[ 42.]],\n",
       " \n",
       "         [[108.]],\n",
       " \n",
       "         [[ 56.]],\n",
       " \n",
       "         [[154.]],\n",
       " \n",
       "         [[217.]],\n",
       " \n",
       "         [[152.]],\n",
       " \n",
       "         [[300.]],\n",
       " \n",
       "         [[ 93.]],\n",
       " \n",
       "         [[184.]],\n",
       " \n",
       "         [[ 65.]],\n",
       " \n",
       "         [[  3.]],\n",
       " \n",
       "         [[200.]],\n",
       " \n",
       "         [[ 45.]],\n",
       " \n",
       "         [[100.]],\n",
       " \n",
       "         [[225.]],\n",
       " \n",
       "         [[242.]],\n",
       " \n",
       "         [[240.]],\n",
       " \n",
       "         [[ 51.]],\n",
       " \n",
       "         [[157.]],\n",
       " \n",
       "         [[ 71.]],\n",
       " \n",
       "         [[229.]],\n",
       " \n",
       "         [[170.]],\n",
       " \n",
       "         [[169.]],\n",
       " \n",
       "         [[ 67.]],\n",
       " \n",
       "         [[108.]],\n",
       " \n",
       "         [[125.]],\n",
       " \n",
       "         [[185.]],\n",
       " \n",
       "         [[151.]],\n",
       " \n",
       "         [[270.]],\n",
       " \n",
       "         [[116.]],\n",
       " \n",
       "         [[231.]],\n",
       " \n",
       "         [[118.]],\n",
       " \n",
       "         [[250.]],\n",
       " \n",
       "         [[132.]],\n",
       " \n",
       "         [[188.]],\n",
       " \n",
       "         [[220.]],\n",
       " \n",
       "         [[ 56.]],\n",
       " \n",
       "         [[216.]],\n",
       " \n",
       "         [[261.]],\n",
       " \n",
       "         [[297.]],\n",
       " \n",
       "         [[ 56.]],\n",
       " \n",
       "         [[295.]],\n",
       " \n",
       "         [[ 81.]],\n",
       " \n",
       "         [[ 91.]],\n",
       " \n",
       "         [[145.]],\n",
       " \n",
       "         [[261.]],\n",
       " \n",
       "         [[ 89.]],\n",
       " \n",
       "         [[ 19.]],\n",
       " \n",
       "         [[140.]],\n",
       " \n",
       "         [[ 68.]],\n",
       " \n",
       "         [[141.]],\n",
       " \n",
       "         [[290.]],\n",
       " \n",
       "         [[319.]],\n",
       " \n",
       "         [[ 49.]],\n",
       " \n",
       "         [[ 16.]],\n",
       " \n",
       "         [[151.]],\n",
       " \n",
       "         [[217.]],\n",
       " \n",
       "         [[231.]],\n",
       " \n",
       "         [[ 54.]],\n",
       " \n",
       "         [[ 96.]],\n",
       " \n",
       "         [[202.]],\n",
       " \n",
       "         [[196.]],\n",
       " \n",
       "         [[ 46.]],\n",
       " \n",
       "         [[207.]],\n",
       " \n",
       "         [[266.]],\n",
       " \n",
       "         [[191.]],\n",
       " \n",
       "         [[ 90.]],\n",
       " \n",
       "         [[253.]],\n",
       " \n",
       "         [[116.]],\n",
       " \n",
       "         [[ 57.]],\n",
       " \n",
       "         [[285.]],\n",
       " \n",
       "         [[112.]]], dtype=torch.float64)]"
      ]
     },
     "execution_count": 46,
     "metadata": {},
     "output_type": "execute_result"
    }
   ],
   "source": [
    "next(iter(trainloader))"
   ]
  },
  {
   "cell_type": "code",
   "execution_count": 50,
   "metadata": {},
   "outputs": [],
   "source": [
    "def get_recons_errors(loader, encoder, decoder):\n",
    "    encoder.eval()\n",
    "    decoder.eval()\n",
    "    recons_errors = []\n",
    "    \n",
    "    i = 0\n",
    "    for X, y in loader:\n",
    "        X = X.to(torch.float32).to(device)\n",
    "        \n",
    "        # if i == 1:\n",
    "        #     X[:,-1,0] *= 5\n",
    "        #     print(X.shape[0]*i)\n",
    "        z = enc(X)\n",
    "        \n",
    "        Xhat = dec(z) \n",
    "        \n",
    "        # recons = torch.mean(torch.square(Xhat - X[:,-1,:]), axis=1)\n",
    "        recons = torch.square(Xhat - X[:,-1,:])\n",
    "        \n",
    "        # assert recons.shape[0] == X.shape[0]\n",
    "        recons_errors.append(recons.detach().cpu().numpy())\n",
    "        i += 1\n",
    "        \n",
    "    return np.concatenate(recons_errors)"
   ]
  },
  {
   "cell_type": "code",
   "execution_count": 51,
   "metadata": {},
   "outputs": [
    {
     "data": {
      "text/plain": [
       "array([0.11911321, 0.10551812, 0.10228892, 0.16075173, 0.19685817,\n",
       "       0.47823828, 0.56025654], dtype=float32)"
      ]
     },
     "execution_count": 51,
     "metadata": {},
     "output_type": "execute_result"
    }
   ],
   "source": [
    "train_recons = get_recons_errors(trainloader, enc, dec)\n",
    "threshold = np.max(train_recons, axis=0)\n",
    "threshold"
   ]
  },
  {
   "cell_type": "code",
   "execution_count": 49,
   "metadata": {},
   "outputs": [
    {
     "data": {
      "text/plain": [
       "array([0.55833715, 0.03669044, 0.03106594, 0.0567733 , 0.06101135,\n",
       "       0.09685206, 0.17544264], dtype=float32)"
      ]
     },
     "execution_count": 49,
     "metadata": {},
     "output_type": "execute_result"
    }
   ],
   "source": [
    "np.mean(train_recons, axis=0) + 2 * np.std(train_recons, axis=0)"
   ]
  },
  {
   "cell_type": "code",
   "execution_count": 76,
   "metadata": {},
   "outputs": [],
   "source": [
    "def get_anom_recons_errors(loader, encoder, decoder):\n",
    "    encoder.eval()\n",
    "    decoder.eval()\n",
    "    recons_errors = []\n",
    "    \n",
    "    i = 0\n",
    "    for X, y in loader:\n",
    "        X = X.to(torch.float32).to(device)\n",
    "        \n",
    "        if i == 1:\n",
    "            X[:,-1,0] *= 1.5\n",
    "            print(X.shape[0]*i)\n",
    "        z = enc(X)\n",
    "        \n",
    "        Xhat = dec(z) \n",
    "        \n",
    "        # recons = torch.mean(torch.square(Xhat - X[:,-1,:]), axis=1)\n",
    "        recons = torch.square(Xhat - X[:,-1,:])\n",
    "        \n",
    "        # assert recons.shape[0] == X.shape[0]\n",
    "        recons_errors.append(recons.detach().cpu().numpy())\n",
    "        i += 1\n",
    "        \n",
    "    return np.concatenate(recons_errors)"
   ]
  },
  {
   "cell_type": "code",
   "execution_count": 77,
   "metadata": {},
   "outputs": [
    {
     "name": "stdout",
     "output_type": "stream",
     "text": [
      "128\n"
     ]
    },
    {
     "data": {
      "text/plain": [
       "array([0., 0., 0., ..., 0., 0., 0.], dtype=float32)"
      ]
     },
     "execution_count": 77,
     "metadata": {},
     "output_type": "execute_result"
    }
   ],
   "source": [
    "anom_recons = get_anom_recons_errors(testloader, enc, dec)\n",
    "# anomalies = anom_recons > (np.mean(train_recons, axis=0) + 5 * np.std(train_recons, axis=0)) # instead of max threshold, use this\n",
    "anomalies = anom_recons > threshold # instead of max threshold, use this\n",
    "\n",
    "anomalies = np.any(anomalies, axis=1).astype(np.float32)\n",
    "anomalies\n"
   ]
  },
  {
   "cell_type": "code",
   "execution_count": 78,
   "metadata": {},
   "outputs": [
    {
     "data": {
      "text/plain": [
       "[<matplotlib.lines.Line2D at 0x7f97e555f210>]"
      ]
     },
     "execution_count": 78,
     "metadata": {},
     "output_type": "execute_result"
    },
    {
     "data": {
      "image/png": "[encoded data removed]",
      "text/plain": [
       "<Figure size 640x480 with 1 Axes>"
      ]
     },
     "metadata": {},
     "output_type": "display_data"
    }
   ],
   "source": [
    "plt.plot(anom_recons[:,0])"
   ]
  },
  {
   "cell_type": "code",
   "execution_count": 79,
   "metadata": {},
   "outputs": [],
   "source": [
    "ys = []\n",
    "for X, y in anomalyloader:\n",
    "    ys.append(y.detach().cpu().numpy().squeeze())\n",
    "\n",
    "ys = np.concatenate(ys)"
   ]
  },
  {
   "cell_type": "code",
   "execution_count": 83,
   "metadata": {},
   "outputs": [
    {
     "data": {
      "text/plain": [
       "<matplotlib.legend.Legend at 0x7f97e54e1ed0>"
      ]
     },
     "execution_count": 83,
     "metadata": {},
     "output_type": "execute_result"
    },
    {
     "data": {
      "image/png": "[encoded data removed]",
      "text/plain": [
       "<Figure size 640x480 with 1 Axes>"
      ]
     },
     "metadata": {},
     "output_type": "display_data"
    }
   ],
   "source": [
    "plt.title(\"Anomaly Detection (Current of Capacitor 1 50% Jump)\")\n",
    "plt.plot(anomalies[0:128*2], alpha=0.5, label='Anomaly Detected')\n",
    "plt.vlines([128], ymin=0, ymax=1, color='red', label='Anomaly Introduced')\n",
    "plt.ylabel(\"Anomaly\")\n",
    "plt.xlabel(\"Sample Index\")\n",
    "plt.legend()\n",
    "# plt.plot(ys, alpha=0.5)"
   ]
  }
 ],
 "metadata": {
  "kernelspec": {
   "display_name": "transimputer-prognostics",
   "language": "python",
   "name": "python3"
  },
  "language_info": {
   "codemirror_mode": {
    "name": "ipython",
    "version": 3
   },
   "file_extension": ".py",
   "mimetype": "text/x-python",
   "name": "python",
   "nbconvert_exporter": "python",
   "pygments_lexer": "ipython3",
   "version": "3.11.3"
  }
 },
 "nbformat": 4,
 "nbformat_minor": 2
}
